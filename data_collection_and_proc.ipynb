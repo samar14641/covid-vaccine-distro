{
 "cells": [
  {
   "cell_type": "markdown",
   "metadata": {},
   "source": [
    "### Import modules and set up the environment"
   ]
  },
  {
   "cell_type": "code",
   "execution_count": 1,
   "metadata": {},
   "outputs": [],
   "source": [
    "import os\n",
    "import pandas as pd\n",
    "\n",
    "from dotenv import load_dotenv\n",
    "from sodapy import Socrata"
   ]
  },
  {
   "cell_type": "code",
   "execution_count": 2,
   "metadata": {},
   "outputs": [],
   "source": [
    "load_dotenv()\n",
    "\n",
    "CDC_TOKEN = os.getenv('CDC_TOKEN')\n",
    "EMAIL_ID = os.getenv('EMAIL_ID')\n",
    "PASSWORD = os.getenv('PASSWORD')"
   ]
  },
  {
   "cell_type": "markdown",
   "metadata": {},
   "source": [
    "### CDC Auth"
   ]
  },
  {
   "cell_type": "code",
   "execution_count": 3,
   "metadata": {},
   "outputs": [],
   "source": [
    "cdc_client = Socrata('data.cdc.gov', CDC_TOKEN, username = EMAIL_ID, password = PASSWORD)"
   ]
  },
  {
   "cell_type": "markdown",
   "metadata": {},
   "source": [
    "### Pfizer\n",
    "\n",
    "Updated every **Tuesday**\n",
    "\n",
    "Collect data:"
   ]
  },
  {
   "cell_type": "code",
   "execution_count": 4,
   "metadata": {},
   "outputs": [],
   "source": [
    "res = cdc_client.get('saz5-9hgg', limit = 4000)"
   ]
  },
  {
   "cell_type": "markdown",
   "metadata": {},
   "source": [
    "Process data:"
   ]
  },
  {
   "cell_type": "code",
   "execution_count": 5,
   "metadata": {},
   "outputs": [
    {
     "data": {
      "text/plain": [
       "(882, 4)"
      ]
     },
     "execution_count": 5,
     "metadata": {},
     "output_type": "execute_result"
    }
   ],
   "source": [
    "df_pfizer = pd.DataFrame.from_records(res).rename(columns = {'week_of_allocations': 'week', '_1st_dose_allocations': 'first_dose', '_2nd_dose_allocations': 'second_dose'})\n",
    "df_pfizer.shape"
   ]
  },
  {
   "cell_type": "code",
   "execution_count": 6,
   "metadata": {},
   "outputs": [],
   "source": [
    "df_pfizer['week'] = pd.to_datetime(df_pfizer['week'])  # convert to datetime"
   ]
  },
  {
   "cell_type": "markdown",
   "metadata": {},
   "source": [
    "Some rows contain '\\*' and ',' to describe footnotes:\n",
    "* \\*: Jurisdictions that won't receive Pfizer vaccines due to cold storage logistics\n",
    "* \\*\\*: Jurisdictions that will receive both doses simultaneously\n",
    "* \\*\\*\\*: Jurisdictions that will receive a \"Sovereign Nation Supplement\" for American Indian/Alaskan Native populations that elected to receive vaccines through the state instead of Indian Health Service\n",
    "* \\*\\*\\*\\*: Federal Entities includes - Bureau of Prisons, Dept. of Defense, Dept. of State, Indian Health Service, & Veterans Affairs + Dept. of Homeland Security\n",
    "\n",
    "Source: [CDC](https://data.cdc.gov/Vaccinations/COVID-19-Vaccine-Distribution-Allocations-by-Juris/saz5-9hgg)"
   ]
  },
  {
   "cell_type": "code",
   "execution_count": 7,
   "metadata": {},
   "outputs": [],
   "source": [
    "# df_pfizer[df_pfizer['jurisdiction'].str.contains('\\*')]\n",
    "\n",
    "df_pfizer['jurisdiction'] = df_pfizer['jurisdiction'].apply(lambda x: x.strip('*,') if '*' in x else x)"
   ]
  },
  {
   "cell_type": "markdown",
   "metadata": {},
   "source": [
    "Note: Stats for Chicago, New York City, and Philadelphia aren't included in rows for IL, NY, and PA"
   ]
  },
  {
   "cell_type": "code",
   "execution_count": 8,
   "metadata": {},
   "outputs": [
    {
     "data": {
      "text/html": [
       "<div>\n",
       "<style scoped>\n",
       "    .dataframe tbody tr th:only-of-type {\n",
       "        vertical-align: middle;\n",
       "    }\n",
       "\n",
       "    .dataframe tbody tr th {\n",
       "        vertical-align: top;\n",
       "    }\n",
       "\n",
       "    .dataframe thead th {\n",
       "        text-align: right;\n",
       "    }\n",
       "</style>\n",
       "<table border=\"1\" class=\"dataframe\">\n",
       "  <thead>\n",
       "    <tr style=\"text-align: right;\">\n",
       "      <th></th>\n",
       "      <th>jurisdiction</th>\n",
       "      <th>week</th>\n",
       "      <th>first_dose</th>\n",
       "      <th>second_dose</th>\n",
       "    </tr>\n",
       "  </thead>\n",
       "  <tbody>\n",
       "    <tr>\n",
       "      <th>0</th>\n",
       "      <td>Connecticut</td>\n",
       "      <td>2021-03-15</td>\n",
       "      <td>49140</td>\n",
       "      <td>49140</td>\n",
       "    </tr>\n",
       "    <tr>\n",
       "      <th>1</th>\n",
       "      <td>Maine</td>\n",
       "      <td>2021-03-15</td>\n",
       "      <td>18720</td>\n",
       "      <td>18720</td>\n",
       "    </tr>\n",
       "    <tr>\n",
       "      <th>2</th>\n",
       "      <td>Massachusetts</td>\n",
       "      <td>2021-03-15</td>\n",
       "      <td>93600</td>\n",
       "      <td>93600</td>\n",
       "    </tr>\n",
       "    <tr>\n",
       "      <th>3</th>\n",
       "      <td>New Hampshire</td>\n",
       "      <td>2021-03-15</td>\n",
       "      <td>18720</td>\n",
       "      <td>18720</td>\n",
       "    </tr>\n",
       "    <tr>\n",
       "      <th>4</th>\n",
       "      <td>Rhode Island</td>\n",
       "      <td>2021-03-15</td>\n",
       "      <td>15210</td>\n",
       "      <td>15210</td>\n",
       "    </tr>\n",
       "  </tbody>\n",
       "</table>\n",
       "</div>"
      ],
      "text/plain": [
       "    jurisdiction       week first_dose second_dose\n",
       "0    Connecticut 2021-03-15      49140       49140\n",
       "1          Maine 2021-03-15      18720       18720\n",
       "2  Massachusetts 2021-03-15      93600       93600\n",
       "3  New Hampshire 2021-03-15      18720       18720\n",
       "4   Rhode Island 2021-03-15      15210       15210"
      ]
     },
     "execution_count": 8,
     "metadata": {},
     "output_type": "execute_result"
    }
   ],
   "source": [
    "df_pfizer.head()"
   ]
  },
  {
   "cell_type": "code",
   "execution_count": 9,
   "metadata": {},
   "outputs": [],
   "source": [
    "df_pfizer.to_csv(os.getcwd() + '/Data/pfizer_cdc.csv')"
   ]
  },
  {
   "cell_type": "markdown",
   "metadata": {},
   "source": [
    "### Moderna\n",
    "\n",
    "Updated every **Tuesday**\n",
    "\n",
    "Collect data:"
   ]
  },
  {
   "cell_type": "code",
   "execution_count": 10,
   "metadata": {},
   "outputs": [],
   "source": [
    "res = cdc_client.get('b7pe-5nws', limit = 4000)"
   ]
  },
  {
   "cell_type": "markdown",
   "metadata": {},
   "source": [
    "Process data:"
   ]
  },
  {
   "cell_type": "code",
   "execution_count": 11,
   "metadata": {},
   "outputs": [
    {
     "data": {
      "text/plain": [
       "(819, 4)"
      ]
     },
     "execution_count": 11,
     "metadata": {},
     "output_type": "execute_result"
    }
   ],
   "source": [
    "df_modr = pd.DataFrame.from_records(res).rename(columns = {'week_of_allocations': 'week', '_1st_dose_allocations': 'first_dose', '_2nd_dose_allocations': 'second_dose'})\n",
    "df_modr.shape"
   ]
  },
  {
   "cell_type": "code",
   "execution_count": 12,
   "metadata": {},
   "outputs": [],
   "source": [
    "df_modr['week'] = pd.to_datetime(df_modr['week'])  # convert to datetime"
   ]
  },
  {
   "cell_type": "markdown",
   "metadata": {},
   "source": [
    "Some rows contain '\\*' and ',' to describe footnotes:\n",
    "* \\*: Jurisdictions that won't receive Pfizer vaccines due to cold storage logistics\n",
    "* \\*\\*: Jurisdictions that will receive both doses simultaneously\n",
    "* \\*\\*\\*: Jurisdictions that will receive a \"Sovereign Nation Supplement\" for American Indian/Alaskan Native populations that elected to receive vaccines through the state instead of Indian Health Service\n",
    "* \\*\\*\\*\\*: Federal Entities includes - Bureau of Prisons, Dept. of Defense, Dept. of State, Indian Health Service, & Veterans Affairs + Dept. of Homeland Security\n",
    "\n",
    "Source: [CDC](https://data.cdc.gov/Vaccinations/COVID-19-Vaccine-Distribution-Allocations-by-Juris/b7pe-5nws)"
   ]
  },
  {
   "cell_type": "code",
   "execution_count": 13,
   "metadata": {},
   "outputs": [],
   "source": [
    "# df_modr[df_modr['jurisdiction'].str.contains('\\*')]\n",
    "\n",
    "df_modr['jurisdiction'] = df_modr['jurisdiction'].apply(lambda x: x.strip('*,') if '*' in x else x)"
   ]
  },
  {
   "cell_type": "markdown",
   "metadata": {},
   "source": [
    "Note: Stats for Chicago, New York City, and Philadelphia aren't included in rows for IL, NY, and PA"
   ]
  },
  {
   "cell_type": "code",
   "execution_count": 14,
   "metadata": {},
   "outputs": [
    {
     "data": {
      "text/html": [
       "<div>\n",
       "<style scoped>\n",
       "    .dataframe tbody tr th:only-of-type {\n",
       "        vertical-align: middle;\n",
       "    }\n",
       "\n",
       "    .dataframe tbody tr th {\n",
       "        vertical-align: top;\n",
       "    }\n",
       "\n",
       "    .dataframe thead th {\n",
       "        text-align: right;\n",
       "    }\n",
       "</style>\n",
       "<table border=\"1\" class=\"dataframe\">\n",
       "  <thead>\n",
       "    <tr style=\"text-align: right;\">\n",
       "      <th></th>\n",
       "      <th>jurisdiction</th>\n",
       "      <th>week</th>\n",
       "      <th>first_dose</th>\n",
       "      <th>second_dose</th>\n",
       "    </tr>\n",
       "  </thead>\n",
       "  <tbody>\n",
       "    <tr>\n",
       "      <th>0</th>\n",
       "      <td>Connecticut</td>\n",
       "      <td>2021-03-15</td>\n",
       "      <td>35800</td>\n",
       "      <td>35800</td>\n",
       "    </tr>\n",
       "    <tr>\n",
       "      <th>1</th>\n",
       "      <td>Maine</td>\n",
       "      <td>2021-03-15</td>\n",
       "      <td>13700</td>\n",
       "      <td>13700</td>\n",
       "    </tr>\n",
       "    <tr>\n",
       "      <th>2</th>\n",
       "      <td>Massachusetts</td>\n",
       "      <td>2021-03-15</td>\n",
       "      <td>69000</td>\n",
       "      <td>69000</td>\n",
       "    </tr>\n",
       "    <tr>\n",
       "      <th>3</th>\n",
       "      <td>New Hampshire</td>\n",
       "      <td>2021-03-15</td>\n",
       "      <td>13700</td>\n",
       "      <td>13700</td>\n",
       "    </tr>\n",
       "    <tr>\n",
       "      <th>4</th>\n",
       "      <td>Rhode Island</td>\n",
       "      <td>2021-03-15</td>\n",
       "      <td>10800</td>\n",
       "      <td>10800</td>\n",
       "    </tr>\n",
       "  </tbody>\n",
       "</table>\n",
       "</div>"
      ],
      "text/plain": [
       "    jurisdiction       week first_dose second_dose\n",
       "0    Connecticut 2021-03-15      35800       35800\n",
       "1          Maine 2021-03-15      13700       13700\n",
       "2  Massachusetts 2021-03-15      69000       69000\n",
       "3  New Hampshire 2021-03-15      13700       13700\n",
       "4   Rhode Island 2021-03-15      10800       10800"
      ]
     },
     "execution_count": 14,
     "metadata": {},
     "output_type": "execute_result"
    }
   ],
   "source": [
    "df_modr.head()"
   ]
  },
  {
   "cell_type": "code",
   "execution_count": 15,
   "metadata": {},
   "outputs": [],
   "source": [
    "df_modr.to_csv(os.getcwd() + '/Data/moderna_cdc.csv')"
   ]
  },
  {
   "cell_type": "markdown",
   "metadata": {},
   "source": [
    "### Jansen\n",
    "\n",
    "Updated every **Tuesday**\n",
    "\n",
    "Collect data:"
   ]
  },
  {
   "cell_type": "code",
   "execution_count": 16,
   "metadata": {},
   "outputs": [],
   "source": [
    "res = cdc_client.get('w9zu-fywh', limit = 4000)"
   ]
  },
  {
   "cell_type": "markdown",
   "metadata": {},
   "source": [
    "Process data:"
   ]
  },
  {
   "cell_type": "code",
   "execution_count": 17,
   "metadata": {},
   "outputs": [
    {
     "data": {
      "text/plain": [
       "(63, 3)"
      ]
     },
     "execution_count": 17,
     "metadata": {},
     "output_type": "execute_result"
    }
   ],
   "source": [
    "df_jj = pd.DataFrame.from_records(res).rename(columns = {'week_of_allocations': 'week', '_1st_dose_allocations': 'first_dose'})\n",
    "df_jj.shape"
   ]
  },
  {
   "cell_type": "code",
   "execution_count": 18,
   "metadata": {},
   "outputs": [],
   "source": [
    "df_jj['week'] = pd.to_datetime(df_jj['week'])  # convert to datetime"
   ]
  },
  {
   "cell_type": "markdown",
   "metadata": {},
   "source": [
    "Some rows contain '\\*' and ',' to describe footnotes:\n",
    "* \\*: Jurisdictions that won't receive Pfizer vaccines due to cold storage logistics\n",
    "* \\*\\*: Jurisdictions that will receive both doses simultaneously\n",
    "* \\*\\*\\*: Jurisdictions that will receive a \"Sovereign Nation Supplement\" for American Indian/Alaskan Native populations that elected to receive vaccines through the state instead of Indian Health Service\n",
    "* \\*\\*\\*\\*: Federal Entities includes - Bureau of Prisons, Dept. of Defense, Dept. of State, Indian Health Service, & Veterans Affairs + Dept. of Homeland Security\n",
    "\n",
    "Source: [CDC](https://data.cdc.gov/Vaccinations/COVID-19-Vaccine-Distribution-Allocations-by-Juris/w9zu-fywh)"
   ]
  },
  {
   "cell_type": "code",
   "execution_count": 19,
   "metadata": {},
   "outputs": [],
   "source": [
    "# df_jj[df_jj['jurisdiction'].str.contains('\\*')]\n",
    "\n",
    "df_jj['jurisdiction'] = df_jj['jurisdiction'].apply(lambda x: x.strip('*,') if '*' in x else x)"
   ]
  },
  {
   "cell_type": "markdown",
   "metadata": {},
   "source": [
    "Note: Stats for Chicago, New York City, and Philadelphia aren't included in rows for IL, NY, and PA"
   ]
  },
  {
   "cell_type": "code",
   "execution_count": 20,
   "metadata": {},
   "outputs": [
    {
     "data": {
      "text/html": [
       "<div>\n",
       "<style scoped>\n",
       "    .dataframe tbody tr th:only-of-type {\n",
       "        vertical-align: middle;\n",
       "    }\n",
       "\n",
       "    .dataframe tbody tr th {\n",
       "        vertical-align: top;\n",
       "    }\n",
       "\n",
       "    .dataframe thead th {\n",
       "        text-align: right;\n",
       "    }\n",
       "</style>\n",
       "<table border=\"1\" class=\"dataframe\">\n",
       "  <thead>\n",
       "    <tr style=\"text-align: right;\">\n",
       "      <th></th>\n",
       "      <th>jurisdiction</th>\n",
       "      <th>week</th>\n",
       "      <th>first_dose</th>\n",
       "    </tr>\n",
       "  </thead>\n",
       "  <tbody>\n",
       "    <tr>\n",
       "      <th>0</th>\n",
       "      <td>Connecticut</td>\n",
       "      <td>2021-03-01</td>\n",
       "      <td>30200</td>\n",
       "    </tr>\n",
       "    <tr>\n",
       "      <th>1</th>\n",
       "      <td>Maine</td>\n",
       "      <td>2021-03-01</td>\n",
       "      <td>11500</td>\n",
       "    </tr>\n",
       "    <tr>\n",
       "      <th>2</th>\n",
       "      <td>Massachusetts</td>\n",
       "      <td>2021-03-01</td>\n",
       "      <td>58100</td>\n",
       "    </tr>\n",
       "    <tr>\n",
       "      <th>3</th>\n",
       "      <td>New Hampshire</td>\n",
       "      <td>2021-03-01</td>\n",
       "      <td>11600</td>\n",
       "    </tr>\n",
       "    <tr>\n",
       "      <th>4</th>\n",
       "      <td>Rhode Island</td>\n",
       "      <td>2021-03-01</td>\n",
       "      <td>9100</td>\n",
       "    </tr>\n",
       "  </tbody>\n",
       "</table>\n",
       "</div>"
      ],
      "text/plain": [
       "    jurisdiction       week first_dose\n",
       "0    Connecticut 2021-03-01      30200\n",
       "1          Maine 2021-03-01      11500\n",
       "2  Massachusetts 2021-03-01      58100\n",
       "3  New Hampshire 2021-03-01      11600\n",
       "4   Rhode Island 2021-03-01       9100"
      ]
     },
     "execution_count": 20,
     "metadata": {},
     "output_type": "execute_result"
    }
   ],
   "source": [
    "df_jj.head()"
   ]
  },
  {
   "cell_type": "code",
   "execution_count": 21,
   "metadata": {},
   "outputs": [],
   "source": [
    "df_jj.to_csv(os.getcwd() + '/Data/jansen_cdc.csv')"
   ]
  }
 ],
 "metadata": {
  "kernelspec": {
   "display_name": "Python 3",
   "language": "python",
   "name": "python3"
  },
  "language_info": {
   "codemirror_mode": {
    "name": "ipython",
    "version": 3
   },
   "file_extension": ".py",
   "mimetype": "text/x-python",
   "name": "python",
   "nbconvert_exporter": "python",
   "pygments_lexer": "ipython3",
   "version": "3.8.2"
  }
 },
 "nbformat": 4,
 "nbformat_minor": 4
}
